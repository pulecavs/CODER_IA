{
 "cells": [
  {
   "cell_type": "markdown",
   "id": "6c35586d-43c7-4d36-9338-ef1ac667ca4c",
   "metadata": {},
   "source": [
    " # Asistente para Analistas de soporte IT\n"
   ]
  },
  {
   "cell_type": "markdown",
   "id": "7372389b-9eb5-45f0-b5d6-3b204e634e86",
   "metadata": {},
   "source": [
    "# Problema"
   ]
  },
  {
   "cell_type": "markdown",
   "id": "8e26030d-863c-4b28-b559-048d83485543",
   "metadata": {},
   "source": [
    "La documentación de los procesos, flujos y SLAs de una aplicación es esencial para ofrecer un soporte de alta eficiencia y facilitar el escalado correcto de problemas. Una documentación detallada permite a los equipos de soporte comprender rápidamente el funcionamiento de la aplicación, identificar y resolver problemas de manera eficiente, minimizando el tiempo de inactividad y mejorando la experiencia del usuario final. Además, una documentación clara y completa facilita la transición entre equipos y la capacitación de nuevos miembros, asegurando la continuidad operativa y la escalabilidad a largo plazo del sistema.\n",
    "Dicho esto, una documentación bien detallada es un componente crítico no solo para garantizar la estabilidad y el rendimiento óptimo de cualquier aplicación sino como fuente de informacion necesaria para el analista cuando se presenta un incidente pero no siempre se cuenta con el tiempo para generarla y mucho menos consumirla en el medio de un incidente mayor. \n",
    "\n",
    "Por todo lo expuesto se torna crítico trabajar en una solución que automatice este proceso garantizando un resultado de calidad en el menor tiempo posible."
   ]
  },
  {
   "cell_type": "markdown",
   "id": "c5103589-d67e-458c-8f77-4c213adb0f75",
   "metadata": {},
   "source": [
    "# Propuesta"
   ]
  },
  {
   "cell_type": "markdown",
   "id": "d888efd6-97ca-464d-96ee-0b1da4a0f925",
   "metadata": {},
   "source": [
    "Desarrollar un sistema basado en modelos de lenguaje como GPT, que puede servir de asistente para un analista de soporte en sus diferentes niveles cumpliendo con el estandar ITIL. Que sea capaza ademas de generar documentación detallada a partir de una serie de prompts específicos. Aquí está un enfoque paso a paso que podríamos seguir:\n",
    "\n",
    "Primero, definimos claramente los objetivos del sistema y los requerimientos de la documentación necesaria para el soporte de IT, incluyendo información sobre procesos clave, flujos de trabajo, manejo de errores, etc. Luego se entrena al modelo utilizando un conjunto de datos de entrenamiento que incluya ejemplos de documentación de aplicaciones similares. Alimentamos estos datos al modelo de lenguaje para que aprenda a generar texto coherente y relevante en el contexto de la documentación de la aplicación.\n",
    "\n",
    "Por ultimo creamos una serie de prompts específicos que guíen al modelo para generar documentación sobre diferentes aspectos de la aplicación. Por ejemplo:\n",
    "\n",
    "\"Describe el proceso de entrada de datos en la aplicación.\"\n",
    "\"Explica el flujo de trabajo principal para procesar una transacción en la aplicación.\"\n",
    "\"Enumera los posibles puntos de falla y las acciones correctivas para cada uno.\"\n",
    "\"Proporciona ejemplos de manejo de errores y excepciones en la aplicación.\""
   ]
  },
  {
   "cell_type": "markdown",
   "id": "859f6093-efd1-4884-bf7f-c5a451d18580",
   "metadata": {},
   "source": [
    "# Viabilidad del proyecto"
   ]
  },
  {
   "cell_type": "markdown",
   "id": "c11553f8-5766-46ac-a560-58d311f45a79",
   "metadata": {},
   "source": [
    "La viabilidad técnica del proyecto se sustenta en varios factores clave:\n",
    "\n",
    "Disponibilidad de modelos de lenguaje avanzados: Actualmente, existen modelos de lenguaje pre-entrenados como GPT-3 que han demostrado habilidades para generar texto coherente y relevante en una variedad de contextos. Estos modelos pueden ser finamente ajustados y utilizados para generar documentación específica para la aplicación en cuestión.\n",
    "\n",
    "Capacidad de comprensión y generación de texto: Los modelos de lenguaje basados en IA han avanzado considerablemente en su capacidad para comprender el lenguaje natural y generar texto coherente y relevante en respuesta a las consultas específicas. Esto les permite responder a una variedad de preguntas y escenarios relacionados con los procesos y flujos de trabajo de la aplicación.\n",
    "\n",
    "Escalabilidad y adaptabilidad: Los modelos de lenguaje como GPT son altamente escalables y pueden manejar una amplia gama de consultas y solicitudes de generación de texto. Esto los hace adecuados para su implementación en entornos de producción donde se requiere generar documentación detallada para múltiples aspectos de una aplicación.\n",
    "\n",
    "Facilidad de integración: Los modelos de lenguaje basados en IA suelen ser fáciles de integrar en sistemas existentes a través de APIs y servicios en la nube. Esto facilita su adopción y uso en el entorno de producción de la aplicación, permitiendo que los ingenieros de soporte IT accedan rápidamente a la documentación generada."
   ]
  },
  {
   "cell_type": "markdown",
   "id": "8dd78116-07eb-43d9-bfdb-b7ea2f404800",
   "metadata": {},
   "source": [
    "# Objetivos"
   ]
  },
  {
   "cell_type": "markdown",
   "id": "c8e33787-d8b4-4488-b474-8cf1a3e5ff33",
   "metadata": {},
   "source": [
    "Disponer de un asistente de soporte complementario para facilitar el analisis de issues, la ejecucion de troubleshooting como asi tambiejn Reducir el tiempo invertido en la creación y lectura de documentación para poder reinvertirlos en otras tareas de soporte como automatización de procesos, monitoreos y proyectos de mejora continua. Por otra parte incrementar la efectividad de los 'How To' a la hora de entregarle al ingeriero de soporte una guía clara y concisa evitando así caer en el exceso de información que no aporte al tema y pueda generar confusión."
   ]
  },
  {
   "cell_type": "markdown",
   "id": "78b365cd-416b-4d6a-8280-1c8fef8d8c90",
   "metadata": {},
   "source": [
    "# Metodologia"
   ]
  },
  {
   "cell_type": "markdown",
   "id": "e91f312e-d5ed-4632-a8f9-9a167bd01df1",
   "metadata": {},
   "source": [
    "Una vez definidos los objetivos, entrenado el modelo y creados los prompts el proyecto continua con los ultimos dos pasos:\n",
    "\n",
    "Validación y refinamiento: Probamos los prompts con el modelo y revisamos la documentación generada para asegurarnos de que sea precisa, completa y relevante para las necesidades del soporte de IT. Podemos ajustar los prompts y el modelo según sea necesario para mejorar la calidad de la salida.\n",
    "\n",
    "Implementación y uso continuo: Una vez que estemos satisfechos con la calidad de la documentación generada, implementamos el sistema en el entorno de producción. Los ingenieros de soporte IT pueden utilizar los prompts para obtener rápidamente la información necesaria sobre los procesos clave de la aplicación, flujos de trabajo, manejo de errores, etc."
   ]
  },
  {
   "cell_type": "markdown",
   "id": "5ed93276-10fe-4b7b-b72e-207c5e38496e",
   "metadata": {},
   "source": [
    "# Herramientas y Tecnologías"
   ]
  },
  {
   "cell_type": "markdown",
   "id": "11c83ed0-b3f2-47fd-9abb-c6d866008828",
   "metadata": {},
   "source": [
    "Para aprovechar al máximo las capacidades del modelo de lenguaje y garantizar una generación de texto precisa y relevante, utilizaré One shoot prompting para solicitar información sobre procesos específicos dentro de la aplicación, para hacer preguntas directas sobre aspectos específicos de la aplicación y/o para manejo de errores y excepciones conocidos dentro de la misma. Tambien se implementaría few shot prompting para prompts sobre punto de fallas y acciones correctivas. "
   ]
  },
  {
   "cell_type": "markdown",
   "id": "7d557ceb-edd4-43f3-9443-02249e647652",
   "metadata": {},
   "source": [
    "# Codigo"
   ]
  },
  {
   "cell_type": "markdown",
   "id": "ced7f7b8-b2c9-49a8-b490-538884ee12cf",
   "metadata": {},
   "source": [
    "*Los prompts es teniendo en cuenta el DataSet de ejemplo creado. Usando este mismo codigo con un DataSet mucho mas completo como seria en el campo real se puede lograr un mas asistente potente que pueda generar aritculos con el paso a paso para ubicar un log, o realizar una accion sobre un servidor, DB, etc. Por razones de seguridad y compliance no pude usar Documentacion real de mi trabajo para poder plasmarlo.*"
   ]
  },
  {
   "cell_type": "code",
   "execution_count": 1,
   "id": "020b283c-efba-405b-aa25-0e8ddff5b78d",
   "metadata": {},
   "outputs": [],
   "source": [
    "from pandasai import SmartDataframe\n",
    "import pandas as pd\n",
    "from pandasai.llm import OpenAI\n",
    "\n",
    "llm=OpenAI(api_token='')\n",
    "\n",
    "csv_file = \"flujo_archivos.csv\"\n",
    "df_from_csv_file = pd.read_csv(csv_file)\n",
    "\n"
   ]
  },
  {
   "cell_type": "code",
   "execution_count": 2,
   "id": "91fd03c1-4e7d-470e-9fc3-a20d2e0c946b",
   "metadata": {},
   "outputs": [
    {
     "data": {
      "text/html": [
       "<div>\n",
       "<style scoped>\n",
       "    .dataframe tbody tr th:only-of-type {\n",
       "        vertical-align: middle;\n",
       "    }\n",
       "\n",
       "    .dataframe tbody tr th {\n",
       "        vertical-align: top;\n",
       "    }\n",
       "\n",
       "    .dataframe thead th {\n",
       "        text-align: right;\n",
       "    }\n",
       "</style>\n",
       "<table border=\"1\" class=\"dataframe\">\n",
       "  <thead>\n",
       "    <tr style=\"text-align: right;\">\n",
       "      <th></th>\n",
       "      <th>Aplicacion</th>\n",
       "      <th>Archivo</th>\n",
       "      <th>Ruta</th>\n",
       "      <th>Ruta_Destino</th>\n",
       "      <th>Aplicacion_Destino</th>\n",
       "      <th>Hora Salida</th>\n",
       "      <th>Hora arribo</th>\n",
       "      <th>SLA</th>\n",
       "      <th>Log Transmision</th>\n",
       "      <th>Soporte</th>\n",
       "      <th>Soporte_Destino</th>\n",
       "    </tr>\n",
       "  </thead>\n",
       "  <tbody>\n",
       "    <tr>\n",
       "      <th>0</th>\n",
       "      <td>EBO</td>\n",
       "      <td>accounting.dat</td>\n",
       "      <td>ebo/domain/out</td>\n",
       "      <td>ldap/archive/in</td>\n",
       "      <td>LATAM_DAP</td>\n",
       "      <td>20:00</td>\n",
       "      <td>21:00</td>\n",
       "      <td>23:00</td>\n",
       "      <td>ebo/domain/log.txt</td>\n",
       "      <td>soporte_ebo@pule.com</td>\n",
       "      <td>soporte_ldap@pule.com</td>\n",
       "    </tr>\n",
       "    <tr>\n",
       "      <th>1</th>\n",
       "      <td>EBO</td>\n",
       "      <td>bonds.dat</td>\n",
       "      <td>ebo/domain/out</td>\n",
       "      <td>ldap/archive/in</td>\n",
       "      <td>LATAM_DAP</td>\n",
       "      <td>20:00</td>\n",
       "      <td>21:00</td>\n",
       "      <td>23:00</td>\n",
       "      <td>ebo/domain/log.txt</td>\n",
       "      <td>soporte_ebo@pule.com</td>\n",
       "      <td>soporte_ldap@pule.com</td>\n",
       "    </tr>\n",
       "    <tr>\n",
       "      <th>2</th>\n",
       "      <td>EBO</td>\n",
       "      <td>deals.dat</td>\n",
       "      <td>ebo/domain/out</td>\n",
       "      <td>ldap/archive/in</td>\n",
       "      <td>LATAM_DAP</td>\n",
       "      <td>20:00</td>\n",
       "      <td>21:00</td>\n",
       "      <td>23:00</td>\n",
       "      <td>ebo/domain/log.txt</td>\n",
       "      <td>soporte_ebo@pule.com</td>\n",
       "      <td>soporte_ldap@pule.com</td>\n",
       "    </tr>\n",
       "    <tr>\n",
       "      <th>3</th>\n",
       "      <td>EBO</td>\n",
       "      <td>rates.dat</td>\n",
       "      <td>ebo/domain/out</td>\n",
       "      <td>ldap/archive/in</td>\n",
       "      <td>LATAM_DAP</td>\n",
       "      <td>20:00</td>\n",
       "      <td>21:00</td>\n",
       "      <td>23:00</td>\n",
       "      <td>ebo/domain/log.txt</td>\n",
       "      <td>soporte_ebo@pule.com</td>\n",
       "      <td>soporte_ldap@pule.com</td>\n",
       "    </tr>\n",
       "    <tr>\n",
       "      <th>4</th>\n",
       "      <td>EBO</td>\n",
       "      <td>position.dat</td>\n",
       "      <td>ebo/domain/out</td>\n",
       "      <td>ldap/archive/in</td>\n",
       "      <td>LATAM_DAP</td>\n",
       "      <td>20:00</td>\n",
       "      <td>21:00</td>\n",
       "      <td>23:00</td>\n",
       "      <td>ebo/domain/log.txt</td>\n",
       "      <td>soporte_ebo@pule.com</td>\n",
       "      <td>soporte_ldap@pule.com</td>\n",
       "    </tr>\n",
       "    <tr>\n",
       "      <th>5</th>\n",
       "      <td>EBO</td>\n",
       "      <td>futures.dat</td>\n",
       "      <td>ebo/domain/out</td>\n",
       "      <td>ldap/archive/in</td>\n",
       "      <td>LATAM_DAP</td>\n",
       "      <td>20:00</td>\n",
       "      <td>21:00</td>\n",
       "      <td>23:00</td>\n",
       "      <td>ebo/domain/log.txt</td>\n",
       "      <td>soporte_ebo@pule.com</td>\n",
       "      <td>soporte_ldap@pule.com</td>\n",
       "    </tr>\n",
       "    <tr>\n",
       "      <th>6</th>\n",
       "      <td>EBO</td>\n",
       "      <td>derivates.dat</td>\n",
       "      <td>ebo/domain/out</td>\n",
       "      <td>ldap/archive/in</td>\n",
       "      <td>LATAM_DAP</td>\n",
       "      <td>20:00</td>\n",
       "      <td>21:00</td>\n",
       "      <td>23:00</td>\n",
       "      <td>ebo/domain/log.txt</td>\n",
       "      <td>soporte_ebo@pule.com</td>\n",
       "      <td>soporte_ldap@pule.com</td>\n",
       "    </tr>\n",
       "    <tr>\n",
       "      <th>7</th>\n",
       "      <td>TDU</td>\n",
       "      <td>flex.dat</td>\n",
       "      <td>tdu/domain/out</td>\n",
       "      <td>flex/archive/in</td>\n",
       "      <td>Flex</td>\n",
       "      <td>20:30</td>\n",
       "      <td>21:30</td>\n",
       "      <td>0:00</td>\n",
       "      <td>tdu/domain/log.txt</td>\n",
       "      <td>soporte_tdu@pule.com</td>\n",
       "      <td>soporte_flex@pule.com</td>\n",
       "    </tr>\n",
       "    <tr>\n",
       "      <th>8</th>\n",
       "      <td>TDU</td>\n",
       "      <td>docs.dat</td>\n",
       "      <td>tdu/domain/out</td>\n",
       "      <td>docs/archive/in</td>\n",
       "      <td>Docs</td>\n",
       "      <td>20:45</td>\n",
       "      <td>21:45</td>\n",
       "      <td>1:00</td>\n",
       "      <td>tdu/domain/log.txt</td>\n",
       "      <td>soporte_tdu@pule.com</td>\n",
       "      <td>soporte_docs@pule.com</td>\n",
       "    </tr>\n",
       "    <tr>\n",
       "      <th>9</th>\n",
       "      <td>TDU</td>\n",
       "      <td>i200.dat</td>\n",
       "      <td>tdu/domain/out</td>\n",
       "      <td>i200/archive/in</td>\n",
       "      <td>i200</td>\n",
       "      <td>21:00</td>\n",
       "      <td>22:00</td>\n",
       "      <td>2:00</td>\n",
       "      <td>tdu/domain/log.txt</td>\n",
       "      <td>soporte_tdu@pule.com</td>\n",
       "      <td>soporte_i200@pule.com</td>\n",
       "    </tr>\n",
       "    <tr>\n",
       "      <th>10</th>\n",
       "      <td>BACA</td>\n",
       "      <td>cosmos.dat</td>\n",
       "      <td>baca/domain/out</td>\n",
       "      <td>cosmos/archive/in</td>\n",
       "      <td>Cosmos</td>\n",
       "      <td>20:30</td>\n",
       "      <td>21:30</td>\n",
       "      <td>0:00</td>\n",
       "      <td>baca/domain/log.txt</td>\n",
       "      <td>soporte_baca@pule.com</td>\n",
       "      <td>soporte_cosmos@pule.com</td>\n",
       "    </tr>\n",
       "    <tr>\n",
       "      <th>11</th>\n",
       "      <td>BACA</td>\n",
       "      <td>postrade.dat</td>\n",
       "      <td>baca/domain/out</td>\n",
       "      <td>post/archive/in</td>\n",
       "      <td>Postrade</td>\n",
       "      <td>20:45</td>\n",
       "      <td>21:45</td>\n",
       "      <td>1:00</td>\n",
       "      <td>baca/domain/log.txt</td>\n",
       "      <td>soporte_baca@pule.com</td>\n",
       "      <td>soporte_postrade@pule.com</td>\n",
       "    </tr>\n",
       "    <tr>\n",
       "      <th>12</th>\n",
       "      <td>BACA</td>\n",
       "      <td>rfc.dat</td>\n",
       "      <td>baca/domain/out</td>\n",
       "      <td>rfc/archive/in</td>\n",
       "      <td>RFC</td>\n",
       "      <td>21:00</td>\n",
       "      <td>22:00</td>\n",
       "      <td>2:00</td>\n",
       "      <td>baca/domain/log.txt</td>\n",
       "      <td>soporte_baca@pule.com</td>\n",
       "      <td>soporte_rfc@pule.com</td>\n",
       "    </tr>\n",
       "    <tr>\n",
       "      <th>13</th>\n",
       "      <td>LDL</td>\n",
       "      <td>tableau.dat</td>\n",
       "      <td>ldl/domain/out</td>\n",
       "      <td>tableau/archive/in</td>\n",
       "      <td>Tableau</td>\n",
       "      <td>19:30</td>\n",
       "      <td>20:30</td>\n",
       "      <td>23:00</td>\n",
       "      <td>ldl/domain/log.txt</td>\n",
       "      <td>soporte_ldl@pule.com</td>\n",
       "      <td>soporte_tableau@pule.com</td>\n",
       "    </tr>\n",
       "    <tr>\n",
       "      <th>14</th>\n",
       "      <td>LDL</td>\n",
       "      <td>quick.dat</td>\n",
       "      <td>ldl/domain/out</td>\n",
       "      <td>qck/archive/in</td>\n",
       "      <td>Quicklik</td>\n",
       "      <td>19:30</td>\n",
       "      <td>20:30</td>\n",
       "      <td>23:00</td>\n",
       "      <td>ldl/domain/log.txt</td>\n",
       "      <td>soporte_ldl@pule.com</td>\n",
       "      <td>soporte_qcklik@pule.com</td>\n",
       "    </tr>\n",
       "  </tbody>\n",
       "</table>\n",
       "</div>"
      ],
      "text/plain": [
       "   Aplicacion         Archivo             Ruta        Ruta_Destino  \\\n",
       "0         EBO  accounting.dat   ebo/domain/out     ldap/archive/in   \n",
       "1         EBO       bonds.dat   ebo/domain/out     ldap/archive/in   \n",
       "2         EBO       deals.dat   ebo/domain/out     ldap/archive/in   \n",
       "3         EBO       rates.dat   ebo/domain/out     ldap/archive/in   \n",
       "4         EBO    position.dat   ebo/domain/out     ldap/archive/in   \n",
       "5         EBO     futures.dat   ebo/domain/out     ldap/archive/in   \n",
       "6         EBO   derivates.dat   ebo/domain/out     ldap/archive/in   \n",
       "7         TDU        flex.dat   tdu/domain/out     flex/archive/in   \n",
       "8         TDU        docs.dat   tdu/domain/out     docs/archive/in   \n",
       "9         TDU        i200.dat   tdu/domain/out     i200/archive/in   \n",
       "10       BACA      cosmos.dat  baca/domain/out   cosmos/archive/in   \n",
       "11       BACA    postrade.dat  baca/domain/out     post/archive/in   \n",
       "12       BACA         rfc.dat  baca/domain/out      rfc/archive/in   \n",
       "13        LDL     tableau.dat   ldl/domain/out  tableau/archive/in   \n",
       "14        LDL       quick.dat   ldl/domain/out      qck/archive/in   \n",
       "\n",
       "   Aplicacion_Destino Hora Salida Hora arribo    SLA      Log Transmision  \\\n",
       "0           LATAM_DAP       20:00       21:00  23:00   ebo/domain/log.txt   \n",
       "1           LATAM_DAP       20:00       21:00  23:00   ebo/domain/log.txt   \n",
       "2           LATAM_DAP       20:00       21:00  23:00   ebo/domain/log.txt   \n",
       "3           LATAM_DAP       20:00       21:00  23:00   ebo/domain/log.txt   \n",
       "4           LATAM_DAP       20:00       21:00  23:00   ebo/domain/log.txt   \n",
       "5           LATAM_DAP       20:00       21:00  23:00   ebo/domain/log.txt   \n",
       "6           LATAM_DAP       20:00       21:00  23:00   ebo/domain/log.txt   \n",
       "7                Flex       20:30       21:30   0:00   tdu/domain/log.txt   \n",
       "8                Docs       20:45       21:45   1:00   tdu/domain/log.txt   \n",
       "9                i200       21:00       22:00   2:00   tdu/domain/log.txt   \n",
       "10             Cosmos       20:30       21:30   0:00  baca/domain/log.txt   \n",
       "11           Postrade       20:45       21:45   1:00  baca/domain/log.txt   \n",
       "12                RFC       21:00       22:00   2:00  baca/domain/log.txt   \n",
       "13            Tableau       19:30       20:30  23:00   ldl/domain/log.txt   \n",
       "14           Quicklik       19:30       20:30  23:00   ldl/domain/log.txt   \n",
       "\n",
       "                  Soporte            Soporte_Destino  \n",
       "0    soporte_ebo@pule.com      soporte_ldap@pule.com  \n",
       "1    soporte_ebo@pule.com      soporte_ldap@pule.com  \n",
       "2    soporte_ebo@pule.com      soporte_ldap@pule.com  \n",
       "3    soporte_ebo@pule.com      soporte_ldap@pule.com  \n",
       "4    soporte_ebo@pule.com      soporte_ldap@pule.com  \n",
       "5    soporte_ebo@pule.com      soporte_ldap@pule.com  \n",
       "6    soporte_ebo@pule.com      soporte_ldap@pule.com  \n",
       "7    soporte_tdu@pule.com      soporte_flex@pule.com  \n",
       "8    soporte_tdu@pule.com      soporte_docs@pule.com  \n",
       "9    soporte_tdu@pule.com      soporte_i200@pule.com  \n",
       "10  soporte_baca@pule.com    soporte_cosmos@pule.com  \n",
       "11  soporte_baca@pule.com  soporte_postrade@pule.com  \n",
       "12  soporte_baca@pule.com       soporte_rfc@pule.com  \n",
       "13   soporte_ldl@pule.com   soporte_tableau@pule.com  \n",
       "14   soporte_ldl@pule.com    soporte_qcklik@pule.com  "
      ]
     },
     "execution_count": 2,
     "metadata": {},
     "output_type": "execute_result"
    }
   ],
   "source": [
    "df_from_csv_file"
   ]
  },
  {
   "cell_type": "code",
   "execution_count": 4,
   "id": "cfc48805-8635-4bdb-8093-1d2e6b847ca9",
   "metadata": {},
   "outputs": [],
   "source": [
    "ai_df = SmartDataframe(df_from_csv_file, config={\"llm\": llm})"
   ]
  },
  {
   "cell_type": "code",
   "execution_count": 5,
   "id": "6d382e48-2430-46dc-b2a0-deef5d389111",
   "metadata": {},
   "outputs": [
    {
     "data": {
      "text/plain": [
       "'baca/domain/out'"
      ]
     },
     "execution_count": 5,
     "metadata": {},
     "output_type": "execute_result"
    }
   ],
   "source": [
    "ai_df.chat(\"Ruta del archivo postrade.dat?\")"
   ]
  },
  {
   "cell_type": "code",
   "execution_count": 6,
   "id": "9f5ab573-f714-4be8-95cd-0f7166e2169c",
   "metadata": {},
   "outputs": [
    {
     "data": {
      "text/plain": [
       "'El SLA del archivo tableau.dat es 23:00.'"
      ]
     },
     "execution_count": 6,
     "metadata": {},
     "output_type": "execute_result"
    }
   ],
   "source": [
    "ai_df.chat(\"Cual es el SLA del archivo tableau.dat?\")"
   ]
  },
  {
   "cell_type": "code",
   "execution_count": 7,
   "id": "17e8a015-e61d-4f38-a8a2-836dff131794",
   "metadata": {},
   "outputs": [
    {
     "data": {
      "text/plain": [
       "'soporte_ldl@pule.com'"
      ]
     },
     "execution_count": 7,
     "metadata": {},
     "output_type": "execute_result"
    }
   ],
   "source": [
    "ai_df.chat(\"Cual es el contacto de soporte de la aplicacion LDL?\")"
   ]
  },
  {
   "cell_type": "code",
   "execution_count": 8,
   "id": "f6b7741c-f12d-48bc-bc8a-40f882c8b010",
   "metadata": {},
   "outputs": [
    {
     "data": {
      "text/plain": [
       "'soporte_baca@pule.com'"
      ]
     },
     "execution_count": 8,
     "metadata": {},
     "output_type": "execute_result"
    }
   ],
   "source": [
    "ai_df.chat(\"Donde deberia ir enviar un correo en caso de necesitar soporte en BACA?\")"
   ]
  },
  {
   "cell_type": "code",
   "execution_count": 10,
   "id": "81a04f93-3c8e-4482-8bfd-6e722e6d00de",
   "metadata": {},
   "outputs": [
    {
     "data": {
      "text/html": [
       "<div>\n",
       "<style scoped>\n",
       "    .dataframe tbody tr th:only-of-type {\n",
       "        vertical-align: middle;\n",
       "    }\n",
       "\n",
       "    .dataframe tbody tr th {\n",
       "        vertical-align: top;\n",
       "    }\n",
       "\n",
       "    .dataframe thead th {\n",
       "        text-align: right;\n",
       "    }\n",
       "</style>\n",
       "<table border=\"1\" class=\"dataframe\">\n",
       "  <thead>\n",
       "    <tr style=\"text-align: right;\">\n",
       "      <th></th>\n",
       "      <th>Aplicacion</th>\n",
       "      <th>Archivos</th>\n",
       "      <th>Escalamiento</th>\n",
       "    </tr>\n",
       "  </thead>\n",
       "  <tbody>\n",
       "    <tr>\n",
       "      <th>0</th>\n",
       "      <td>EBO</td>\n",
       "      <td>accounting.dat</td>\n",
       "      <td>soporte_ebo@pule.com</td>\n",
       "    </tr>\n",
       "    <tr>\n",
       "      <th>1</th>\n",
       "      <td>EBO</td>\n",
       "      <td>bonds.dat</td>\n",
       "      <td>soporte_ebo@pule.com</td>\n",
       "    </tr>\n",
       "    <tr>\n",
       "      <th>2</th>\n",
       "      <td>EBO</td>\n",
       "      <td>deals.dat</td>\n",
       "      <td>soporte_ebo@pule.com</td>\n",
       "    </tr>\n",
       "    <tr>\n",
       "      <th>3</th>\n",
       "      <td>EBO</td>\n",
       "      <td>rates.dat</td>\n",
       "      <td>soporte_ebo@pule.com</td>\n",
       "    </tr>\n",
       "    <tr>\n",
       "      <th>4</th>\n",
       "      <td>EBO</td>\n",
       "      <td>position.dat</td>\n",
       "      <td>soporte_ebo@pule.com</td>\n",
       "    </tr>\n",
       "    <tr>\n",
       "      <th>5</th>\n",
       "      <td>EBO</td>\n",
       "      <td>futures.dat</td>\n",
       "      <td>soporte_ebo@pule.com</td>\n",
       "    </tr>\n",
       "    <tr>\n",
       "      <th>6</th>\n",
       "      <td>EBO</td>\n",
       "      <td>derivates.dat</td>\n",
       "      <td>soporte_ebo@pule.com</td>\n",
       "    </tr>\n",
       "    <tr>\n",
       "      <th>7</th>\n",
       "      <td>TDU</td>\n",
       "      <td>flex.dat</td>\n",
       "      <td>soporte_tdu@pule.com</td>\n",
       "    </tr>\n",
       "    <tr>\n",
       "      <th>8</th>\n",
       "      <td>TDU</td>\n",
       "      <td>docs.dat</td>\n",
       "      <td>soporte_tdu@pule.com</td>\n",
       "    </tr>\n",
       "    <tr>\n",
       "      <th>9</th>\n",
       "      <td>TDU</td>\n",
       "      <td>i200.dat</td>\n",
       "      <td>soporte_tdu@pule.com</td>\n",
       "    </tr>\n",
       "    <tr>\n",
       "      <th>10</th>\n",
       "      <td>BACA</td>\n",
       "      <td>cosmos.dat</td>\n",
       "      <td>soporte_baca@pule.com</td>\n",
       "    </tr>\n",
       "    <tr>\n",
       "      <th>11</th>\n",
       "      <td>BACA</td>\n",
       "      <td>postrade.dat</td>\n",
       "      <td>soporte_baca@pule.com</td>\n",
       "    </tr>\n",
       "    <tr>\n",
       "      <th>12</th>\n",
       "      <td>BACA</td>\n",
       "      <td>rfc.dat</td>\n",
       "      <td>soporte_baca@pule.com</td>\n",
       "    </tr>\n",
       "    <tr>\n",
       "      <th>13</th>\n",
       "      <td>LDL</td>\n",
       "      <td>tableau.dat</td>\n",
       "      <td>soporte_ldl@pule.com</td>\n",
       "    </tr>\n",
       "    <tr>\n",
       "      <th>14</th>\n",
       "      <td>LDL</td>\n",
       "      <td>quick.dat</td>\n",
       "      <td>soporte_ldl@pule.com</td>\n",
       "    </tr>\n",
       "  </tbody>\n",
       "</table>\n",
       "</div>"
      ],
      "text/plain": [
       "   Aplicacion        Archivos           Escalamiento\n",
       "0         EBO  accounting.dat   soporte_ebo@pule.com\n",
       "1         EBO       bonds.dat   soporte_ebo@pule.com\n",
       "2         EBO       deals.dat   soporte_ebo@pule.com\n",
       "3         EBO       rates.dat   soporte_ebo@pule.com\n",
       "4         EBO    position.dat   soporte_ebo@pule.com\n",
       "5         EBO     futures.dat   soporte_ebo@pule.com\n",
       "6         EBO   derivates.dat   soporte_ebo@pule.com\n",
       "7         TDU        flex.dat   soporte_tdu@pule.com\n",
       "8         TDU        docs.dat   soporte_tdu@pule.com\n",
       "9         TDU        i200.dat   soporte_tdu@pule.com\n",
       "10       BACA      cosmos.dat  soporte_baca@pule.com\n",
       "11       BACA    postrade.dat  soporte_baca@pule.com\n",
       "12       BACA         rfc.dat  soporte_baca@pule.com\n",
       "13        LDL     tableau.dat   soporte_ldl@pule.com\n",
       "14        LDL       quick.dat   soporte_ldl@pule.com"
      ]
     },
     "execution_count": 10,
     "metadata": {},
     "output_type": "execute_result"
    }
   ],
   "source": [
    "ai_df.chat( \"Crea una tabla con 3 columnas 'Aplicacion' 'Archivos' y 'Escalamiento' donde se muestren nombre de todas las aplicaciones, los archivos que envian y su contacto de soporte\")"
   ]
  },
  {
   "cell_type": "code",
   "execution_count": 12,
   "id": "4c90ee05-fe89-429a-96ab-a9f5e3ac4f97",
   "metadata": {},
   "outputs": [
    {
     "data": {
      "text/plain": [
       "'/Users/damian/anaconda3/envs/prompt/exports/charts/temp_chart.png'"
      ]
     },
     "execution_count": 12,
     "metadata": {},
     "output_type": "execute_result"
    },
    {
     "data": {
      "image/png": "[encoded data removed]",
      "text/plain": [
       "<Figure size 1000x600 with 1 Axes>"
      ]
     },
     "metadata": {},
     "output_type": "display_data"
    }
   ],
   "source": [
    "ai_df.chat(\"Crea un grafico de barra horizontal donde se muestren los archivos que envia la aplicacion BACA con sus horarios de salida.\")"
   ]
  },
  {
   "cell_type": "code",
   "execution_count": 14,
   "id": "f692850b-5d64-4a66-a570-6337766ed910",
   "metadata": {},
   "outputs": [
    {
     "data": {
      "text/plain": [
       "'/Users/damian/anaconda3/envs/prompt/exports/charts/temp_chart.png'"
      ]
     },
     "execution_count": 14,
     "metadata": {},
     "output_type": "execute_result"
    },
    {
     "data": {
      "image/png": "[encoded data removed]",
      "text/plain": [
       "<Figure size 800x800 with 1 Axes>"
      ]
     },
     "metadata": {},
     "output_type": "display_data"
    }
   ],
   "source": [
    "ai_df.chat(\"Crea un grafico de torta donde se muestren la cantidad de archivos que envia cada aplicacion. Diferentes colores por aplicacion\")"
   ]
  },
  {
   "cell_type": "code",
   "execution_count": null,
   "id": "95af3a2e-f082-4de1-a210-660958abd3d9",
   "metadata": {},
   "outputs": [],
   "source": []
  }
 ],
 "metadata": {
  "kernelspec": {
   "display_name": "Python 3 (ipykernel)",
   "language": "python",
   "name": "python3"
  },
  "language_info": {
   "codemirror_mode": {
    "name": "ipython",
    "version": 3
   },
   "file_extension": ".py",
   "mimetype": "text/x-python",
   "name": "python",
   "nbconvert_exporter": "python",
   "pygments_lexer": "ipython3",
   "version": "3.11.7"
  }
 },
 "nbformat": 4,
 "nbformat_minor": 5
}
